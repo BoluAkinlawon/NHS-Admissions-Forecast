{
 "cells": [
  {
   "cell_type": "code",
   "execution_count": 1,
   "id": "ad11c86e",
   "metadata": {},
   "outputs": [],
   "source": [
    "# Importing relevant libaries \n",
    "import numpy as np\n",
    "import pandas as pd\n",
    "import matplotlib.pyplot as plt\n",
    "%matplotlib inline"
   ]
  },
  {
   "cell_type": "code",
   "execution_count": 2,
   "id": "ea2c15b4",
   "metadata": {},
   "outputs": [],
   "source": [
    "# Reading in pre processed excel file\n",
    "df = pd.read_excel(\"/Users/suhayl/Data Science modules/IGP/Data/IGP_updated_data.xlsx\")"
   ]
  },
  {
   "cell_type": "code",
   "execution_count": 3,
   "id": "65fad487",
   "metadata": {},
   "outputs": [
    {
     "data": {
      "text/html": [
       "<div>\n",
       "<style scoped>\n",
       "    .dataframe tbody tr th:only-of-type {\n",
       "        vertical-align: middle;\n",
       "    }\n",
       "\n",
       "    .dataframe tbody tr th {\n",
       "        vertical-align: top;\n",
       "    }\n",
       "\n",
       "    .dataframe thead th {\n",
       "        text-align: right;\n",
       "    }\n",
       "</style>\n",
       "<table border=\"1\" class=\"dataframe\">\n",
       "  <thead>\n",
       "    <tr style=\"text-align: right;\">\n",
       "      <th></th>\n",
       "      <th>Year</th>\n",
       "      <th>Total</th>\n",
       "      <th>maternity</th>\n",
       "      <th>population</th>\n",
       "    </tr>\n",
       "  </thead>\n",
       "  <tbody>\n",
       "    <tr>\n",
       "      <th>0</th>\n",
       "      <td>2008-04</td>\n",
       "      <td>6918254</td>\n",
       "      <td>NaN</td>\n",
       "      <td>61823772</td>\n",
       "    </tr>\n",
       "    <tr>\n",
       "      <th>1</th>\n",
       "      <td>2008-05</td>\n",
       "      <td>6506145</td>\n",
       "      <td>NaN</td>\n",
       "      <td>61823772</td>\n",
       "    </tr>\n",
       "    <tr>\n",
       "      <th>2</th>\n",
       "      <td>2008-06</td>\n",
       "      <td>6809466</td>\n",
       "      <td>NaN</td>\n",
       "      <td>61823772</td>\n",
       "    </tr>\n",
       "    <tr>\n",
       "      <th>3</th>\n",
       "      <td>2008-07</td>\n",
       "      <td>7163355</td>\n",
       "      <td>NaN</td>\n",
       "      <td>61823772</td>\n",
       "    </tr>\n",
       "    <tr>\n",
       "      <th>4</th>\n",
       "      <td>2008-08</td>\n",
       "      <td>6134809</td>\n",
       "      <td>NaN</td>\n",
       "      <td>61823772</td>\n",
       "    </tr>\n",
       "  </tbody>\n",
       "</table>\n",
       "</div>"
      ],
      "text/plain": [
       "      Year    Total  maternity  population\n",
       "0  2008-04  6918254        NaN    61823772\n",
       "1  2008-05  6506145        NaN    61823772\n",
       "2  2008-06  6809466        NaN    61823772\n",
       "3  2008-07  7163355        NaN    61823772\n",
       "4  2008-08  6134809        NaN    61823772"
      ]
     },
     "execution_count": 3,
     "metadata": {},
     "output_type": "execute_result"
    }
   ],
   "source": [
    "df.head()"
   ]
  },
  {
   "cell_type": "code",
   "execution_count": 263,
   "id": "356ed6ad",
   "metadata": {},
   "outputs": [
    {
     "data": {
      "text/html": [
       "<div>\n",
       "<style scoped>\n",
       "    .dataframe tbody tr th:only-of-type {\n",
       "        vertical-align: middle;\n",
       "    }\n",
       "\n",
       "    .dataframe tbody tr th {\n",
       "        vertical-align: top;\n",
       "    }\n",
       "\n",
       "    .dataframe thead th {\n",
       "        text-align: right;\n",
       "    }\n",
       "</style>\n",
       "<table border=\"1\" class=\"dataframe\">\n",
       "  <thead>\n",
       "    <tr style=\"text-align: right;\">\n",
       "      <th></th>\n",
       "      <th>Total_admissions</th>\n",
       "      <th>maternity</th>\n",
       "      <th>population</th>\n",
       "    </tr>\n",
       "    <tr>\n",
       "      <th>Year</th>\n",
       "      <th></th>\n",
       "      <th></th>\n",
       "      <th></th>\n",
       "    </tr>\n",
       "  </thead>\n",
       "  <tbody>\n",
       "    <tr>\n",
       "      <th>2017-11-01</th>\n",
       "      <td>9226346</td>\n",
       "      <td>56116.0</td>\n",
       "      <td>66040229</td>\n",
       "    </tr>\n",
       "    <tr>\n",
       "      <th>2017-12-01</th>\n",
       "      <td>7455220</td>\n",
       "      <td>54721.0</td>\n",
       "      <td>66040229</td>\n",
       "    </tr>\n",
       "    <tr>\n",
       "      <th>2018-01-01</th>\n",
       "      <td>8965179</td>\n",
       "      <td>56257.0</td>\n",
       "      <td>66040229</td>\n",
       "    </tr>\n",
       "    <tr>\n",
       "      <th>2018-02-01</th>\n",
       "      <td>8114870</td>\n",
       "      <td>51270.0</td>\n",
       "      <td>66040229</td>\n",
       "    </tr>\n",
       "    <tr>\n",
       "      <th>2018-03-01</th>\n",
       "      <td>8593300</td>\n",
       "      <td>56648.0</td>\n",
       "      <td>66040229</td>\n",
       "    </tr>\n",
       "  </tbody>\n",
       "</table>\n",
       "</div>"
      ],
      "text/plain": [
       "            Total_admissions  maternity  population\n",
       "Year                                               \n",
       "2017-11-01           9226346    56116.0    66040229\n",
       "2017-12-01           7455220    54721.0    66040229\n",
       "2018-01-01           8965179    56257.0    66040229\n",
       "2018-02-01           8114870    51270.0    66040229\n",
       "2018-03-01           8593300    56648.0    66040229"
      ]
     },
     "execution_count": 263,
     "metadata": {},
     "output_type": "execute_result"
    }
   ],
   "source": [
    "df.tail()"
   ]
  },
  {
   "cell_type": "code",
   "execution_count": 4,
   "id": "4a50c839",
   "metadata": {},
   "outputs": [],
   "source": [
    "# Changing column names\n",
    "df.columns = [\"Year\", \"Total_admissions\", \"maternity\", \"population\"]"
   ]
  },
  {
   "cell_type": "code",
   "execution_count": 5,
   "id": "2312f35d",
   "metadata": {},
   "outputs": [
    {
     "data": {
      "text/html": [
       "<div>\n",
       "<style scoped>\n",
       "    .dataframe tbody tr th:only-of-type {\n",
       "        vertical-align: middle;\n",
       "    }\n",
       "\n",
       "    .dataframe tbody tr th {\n",
       "        vertical-align: top;\n",
       "    }\n",
       "\n",
       "    .dataframe thead th {\n",
       "        text-align: right;\n",
       "    }\n",
       "</style>\n",
       "<table border=\"1\" class=\"dataframe\">\n",
       "  <thead>\n",
       "    <tr style=\"text-align: right;\">\n",
       "      <th></th>\n",
       "      <th>Year</th>\n",
       "      <th>Total_admissions</th>\n",
       "      <th>maternity</th>\n",
       "      <th>population</th>\n",
       "    </tr>\n",
       "  </thead>\n",
       "  <tbody>\n",
       "    <tr>\n",
       "      <th>0</th>\n",
       "      <td>2008-04</td>\n",
       "      <td>6918254</td>\n",
       "      <td>NaN</td>\n",
       "      <td>61823772</td>\n",
       "    </tr>\n",
       "    <tr>\n",
       "      <th>1</th>\n",
       "      <td>2008-05</td>\n",
       "      <td>6506145</td>\n",
       "      <td>NaN</td>\n",
       "      <td>61823772</td>\n",
       "    </tr>\n",
       "    <tr>\n",
       "      <th>2</th>\n",
       "      <td>2008-06</td>\n",
       "      <td>6809466</td>\n",
       "      <td>NaN</td>\n",
       "      <td>61823772</td>\n",
       "    </tr>\n",
       "    <tr>\n",
       "      <th>3</th>\n",
       "      <td>2008-07</td>\n",
       "      <td>7163355</td>\n",
       "      <td>NaN</td>\n",
       "      <td>61823772</td>\n",
       "    </tr>\n",
       "    <tr>\n",
       "      <th>4</th>\n",
       "      <td>2008-08</td>\n",
       "      <td>6134809</td>\n",
       "      <td>NaN</td>\n",
       "      <td>61823772</td>\n",
       "    </tr>\n",
       "  </tbody>\n",
       "</table>\n",
       "</div>"
      ],
      "text/plain": [
       "      Year  Total_admissions  maternity  population\n",
       "0  2008-04           6918254        NaN    61823772\n",
       "1  2008-05           6506145        NaN    61823772\n",
       "2  2008-06           6809466        NaN    61823772\n",
       "3  2008-07           7163355        NaN    61823772\n",
       "4  2008-08           6134809        NaN    61823772"
      ]
     },
     "execution_count": 5,
     "metadata": {},
     "output_type": "execute_result"
    }
   ],
   "source": [
    "df.head()"
   ]
  },
  {
   "cell_type": "code",
   "execution_count": 6,
   "id": "d65f372f",
   "metadata": {},
   "outputs": [
    {
     "data": {
      "text/plain": [
       "str"
      ]
     },
     "execution_count": 6,
     "metadata": {},
     "output_type": "execute_result"
    }
   ],
   "source": [
    "# Checking data type of \"year\" column\n",
    "type(\"year\")"
   ]
  },
  {
   "cell_type": "code",
   "execution_count": 7,
   "id": "cce00a46",
   "metadata": {},
   "outputs": [],
   "source": [
    "# Coverting \"year\" column to DateTime object\n",
    "df[\"Year\"] = pd.to_datetime(df[\"Year\"])"
   ]
  },
  {
   "cell_type": "code",
   "execution_count": 8,
   "id": "0e453be0",
   "metadata": {},
   "outputs": [],
   "source": [
    "# Setting \"year\" column as index\n",
    "df.set_index(\"Year\", inplace=True)"
   ]
  },
  {
   "cell_type": "code",
   "execution_count": 9,
   "id": "bc2560c1",
   "metadata": {},
   "outputs": [
    {
     "data": {
      "text/html": [
       "<div>\n",
       "<style scoped>\n",
       "    .dataframe tbody tr th:only-of-type {\n",
       "        vertical-align: middle;\n",
       "    }\n",
       "\n",
       "    .dataframe tbody tr th {\n",
       "        vertical-align: top;\n",
       "    }\n",
       "\n",
       "    .dataframe thead th {\n",
       "        text-align: right;\n",
       "    }\n",
       "</style>\n",
       "<table border=\"1\" class=\"dataframe\">\n",
       "  <thead>\n",
       "    <tr style=\"text-align: right;\">\n",
       "      <th></th>\n",
       "      <th>Total_admissions</th>\n",
       "      <th>maternity</th>\n",
       "      <th>population</th>\n",
       "    </tr>\n",
       "    <tr>\n",
       "      <th>Year</th>\n",
       "      <th></th>\n",
       "      <th></th>\n",
       "      <th></th>\n",
       "    </tr>\n",
       "  </thead>\n",
       "  <tbody>\n",
       "    <tr>\n",
       "      <th>2008-04-01</th>\n",
       "      <td>6918254</td>\n",
       "      <td>NaN</td>\n",
       "      <td>61823772</td>\n",
       "    </tr>\n",
       "    <tr>\n",
       "      <th>2008-05-01</th>\n",
       "      <td>6506145</td>\n",
       "      <td>NaN</td>\n",
       "      <td>61823772</td>\n",
       "    </tr>\n",
       "    <tr>\n",
       "      <th>2008-06-01</th>\n",
       "      <td>6809466</td>\n",
       "      <td>NaN</td>\n",
       "      <td>61823772</td>\n",
       "    </tr>\n",
       "    <tr>\n",
       "      <th>2008-07-01</th>\n",
       "      <td>7163355</td>\n",
       "      <td>NaN</td>\n",
       "      <td>61823772</td>\n",
       "    </tr>\n",
       "    <tr>\n",
       "      <th>2008-08-01</th>\n",
       "      <td>6134809</td>\n",
       "      <td>NaN</td>\n",
       "      <td>61823772</td>\n",
       "    </tr>\n",
       "  </tbody>\n",
       "</table>\n",
       "</div>"
      ],
      "text/plain": [
       "            Total_admissions  maternity  population\n",
       "Year                                               \n",
       "2008-04-01           6918254        NaN    61823772\n",
       "2008-05-01           6506145        NaN    61823772\n",
       "2008-06-01           6809466        NaN    61823772\n",
       "2008-07-01           7163355        NaN    61823772\n",
       "2008-08-01           6134809        NaN    61823772"
      ]
     },
     "execution_count": 9,
     "metadata": {},
     "output_type": "execute_result"
    }
   ],
   "source": [
    "df.head()"
   ]
  },
  {
   "cell_type": "code",
   "execution_count": 10,
   "id": "d840d1eb",
   "metadata": {},
   "outputs": [
    {
     "data": {
      "text/html": [
       "<div>\n",
       "<style scoped>\n",
       "    .dataframe tbody tr th:only-of-type {\n",
       "        vertical-align: middle;\n",
       "    }\n",
       "\n",
       "    .dataframe tbody tr th {\n",
       "        vertical-align: top;\n",
       "    }\n",
       "\n",
       "    .dataframe thead th {\n",
       "        text-align: right;\n",
       "    }\n",
       "</style>\n",
       "<table border=\"1\" class=\"dataframe\">\n",
       "  <thead>\n",
       "    <tr style=\"text-align: right;\">\n",
       "      <th></th>\n",
       "      <th>Total_admissions</th>\n",
       "      <th>maternity</th>\n",
       "      <th>population</th>\n",
       "    </tr>\n",
       "    <tr>\n",
       "      <th>Year</th>\n",
       "      <th></th>\n",
       "      <th></th>\n",
       "      <th></th>\n",
       "    </tr>\n",
       "  </thead>\n",
       "  <tbody>\n",
       "    <tr>\n",
       "      <th>2008-04-01</th>\n",
       "      <td>6918254</td>\n",
       "      <td>57955.0</td>\n",
       "      <td>61823772</td>\n",
       "    </tr>\n",
       "    <tr>\n",
       "      <th>2008-05-01</th>\n",
       "      <td>6506145</td>\n",
       "      <td>57955.0</td>\n",
       "      <td>61823772</td>\n",
       "    </tr>\n",
       "    <tr>\n",
       "      <th>2008-06-01</th>\n",
       "      <td>6809466</td>\n",
       "      <td>57955.0</td>\n",
       "      <td>61823772</td>\n",
       "    </tr>\n",
       "    <tr>\n",
       "      <th>2008-07-01</th>\n",
       "      <td>7163355</td>\n",
       "      <td>57955.0</td>\n",
       "      <td>61823772</td>\n",
       "    </tr>\n",
       "    <tr>\n",
       "      <th>2008-08-01</th>\n",
       "      <td>6134809</td>\n",
       "      <td>57955.0</td>\n",
       "      <td>61823772</td>\n",
       "    </tr>\n",
       "  </tbody>\n",
       "</table>\n",
       "</div>"
      ],
      "text/plain": [
       "            Total_admissions  maternity  population\n",
       "Year                                               \n",
       "2008-04-01           6918254    57955.0    61823772\n",
       "2008-05-01           6506145    57955.0    61823772\n",
       "2008-06-01           6809466    57955.0    61823772\n",
       "2008-07-01           7163355    57955.0    61823772\n",
       "2008-08-01           6134809    57955.0    61823772"
      ]
     },
     "execution_count": 10,
     "metadata": {},
     "output_type": "execute_result"
    }
   ],
   "source": [
    "# populating Null values in \"maternity\" columns using backwards fill method\n",
    "new_df = df.fillna(method=\"bfill\")\n",
    "new_df.head()"
   ]
  },
  {
   "cell_type": "code",
   "execution_count": 11,
   "id": "525e6f65",
   "metadata": {},
   "outputs": [],
   "source": [
    "# Dropping and creating new DataFrame with \"year\" and \"Total admissions\"\n",
    "new_df.drop(\"maternity\", axis=1, inplace=True)"
   ]
  },
  {
   "cell_type": "code",
   "execution_count": 12,
   "id": "0888c287",
   "metadata": {},
   "outputs": [
    {
     "data": {
      "text/html": [
       "<div>\n",
       "<style scoped>\n",
       "    .dataframe tbody tr th:only-of-type {\n",
       "        vertical-align: middle;\n",
       "    }\n",
       "\n",
       "    .dataframe tbody tr th {\n",
       "        vertical-align: top;\n",
       "    }\n",
       "\n",
       "    .dataframe thead th {\n",
       "        text-align: right;\n",
       "    }\n",
       "</style>\n",
       "<table border=\"1\" class=\"dataframe\">\n",
       "  <thead>\n",
       "    <tr style=\"text-align: right;\">\n",
       "      <th></th>\n",
       "      <th>Total_admissions</th>\n",
       "      <th>population</th>\n",
       "    </tr>\n",
       "    <tr>\n",
       "      <th>Year</th>\n",
       "      <th></th>\n",
       "      <th></th>\n",
       "    </tr>\n",
       "  </thead>\n",
       "  <tbody>\n",
       "    <tr>\n",
       "      <th>2008-04-01</th>\n",
       "      <td>6918254</td>\n",
       "      <td>61823772</td>\n",
       "    </tr>\n",
       "    <tr>\n",
       "      <th>2008-05-01</th>\n",
       "      <td>6506145</td>\n",
       "      <td>61823772</td>\n",
       "    </tr>\n",
       "    <tr>\n",
       "      <th>2008-06-01</th>\n",
       "      <td>6809466</td>\n",
       "      <td>61823772</td>\n",
       "    </tr>\n",
       "    <tr>\n",
       "      <th>2008-07-01</th>\n",
       "      <td>7163355</td>\n",
       "      <td>61823772</td>\n",
       "    </tr>\n",
       "    <tr>\n",
       "      <th>2008-08-01</th>\n",
       "      <td>6134809</td>\n",
       "      <td>61823772</td>\n",
       "    </tr>\n",
       "    <tr>\n",
       "      <th>...</th>\n",
       "      <td>...</td>\n",
       "      <td>...</td>\n",
       "    </tr>\n",
       "    <tr>\n",
       "      <th>2017-11-01</th>\n",
       "      <td>9226346</td>\n",
       "      <td>66040229</td>\n",
       "    </tr>\n",
       "    <tr>\n",
       "      <th>2017-12-01</th>\n",
       "      <td>7455220</td>\n",
       "      <td>66040229</td>\n",
       "    </tr>\n",
       "    <tr>\n",
       "      <th>2018-01-01</th>\n",
       "      <td>8965179</td>\n",
       "      <td>66040229</td>\n",
       "    </tr>\n",
       "    <tr>\n",
       "      <th>2018-02-01</th>\n",
       "      <td>8114870</td>\n",
       "      <td>66040229</td>\n",
       "    </tr>\n",
       "    <tr>\n",
       "      <th>2018-03-01</th>\n",
       "      <td>8593300</td>\n",
       "      <td>66040229</td>\n",
       "    </tr>\n",
       "  </tbody>\n",
       "</table>\n",
       "<p>120 rows × 2 columns</p>\n",
       "</div>"
      ],
      "text/plain": [
       "            Total_admissions  population\n",
       "Year                                    \n",
       "2008-04-01           6918254    61823772\n",
       "2008-05-01           6506145    61823772\n",
       "2008-06-01           6809466    61823772\n",
       "2008-07-01           7163355    61823772\n",
       "2008-08-01           6134809    61823772\n",
       "...                      ...         ...\n",
       "2017-11-01           9226346    66040229\n",
       "2017-12-01           7455220    66040229\n",
       "2018-01-01           8965179    66040229\n",
       "2018-02-01           8114870    66040229\n",
       "2018-03-01           8593300    66040229\n",
       "\n",
       "[120 rows x 2 columns]"
      ]
     },
     "execution_count": 12,
     "metadata": {},
     "output_type": "execute_result"
    }
   ],
   "source": [
    "new_df"
   ]
  },
  {
   "cell_type": "code",
   "execution_count": 13,
   "id": "6a10c749",
   "metadata": {},
   "outputs": [],
   "source": [
    "new_df.drop(\"population\",axis=1,inplace=True)"
   ]
  },
  {
   "cell_type": "code",
   "execution_count": 14,
   "id": "0dfc87c2",
   "metadata": {},
   "outputs": [
    {
     "data": {
      "text/plain": [
       "(120, 1)"
      ]
     },
     "execution_count": 14,
     "metadata": {},
     "output_type": "execute_result"
    }
   ],
   "source": [
    "new_df.shape"
   ]
  },
  {
   "cell_type": "code",
   "execution_count": 15,
   "id": "f2ed90ea",
   "metadata": {},
   "outputs": [
    {
     "data": {
      "text/html": [
       "<div>\n",
       "<style scoped>\n",
       "    .dataframe tbody tr th:only-of-type {\n",
       "        vertical-align: middle;\n",
       "    }\n",
       "\n",
       "    .dataframe tbody tr th {\n",
       "        vertical-align: top;\n",
       "    }\n",
       "\n",
       "    .dataframe thead th {\n",
       "        text-align: right;\n",
       "    }\n",
       "</style>\n",
       "<table border=\"1\" class=\"dataframe\">\n",
       "  <thead>\n",
       "    <tr style=\"text-align: right;\">\n",
       "      <th></th>\n",
       "      <th>Total_admissions</th>\n",
       "    </tr>\n",
       "    <tr>\n",
       "      <th>Year</th>\n",
       "      <th></th>\n",
       "    </tr>\n",
       "  </thead>\n",
       "  <tbody>\n",
       "    <tr>\n",
       "      <th>2008-04-01</th>\n",
       "      <td>6918254</td>\n",
       "    </tr>\n",
       "    <tr>\n",
       "      <th>2008-05-01</th>\n",
       "      <td>6506145</td>\n",
       "    </tr>\n",
       "    <tr>\n",
       "      <th>2008-06-01</th>\n",
       "      <td>6809466</td>\n",
       "    </tr>\n",
       "    <tr>\n",
       "      <th>2008-07-01</th>\n",
       "      <td>7163355</td>\n",
       "    </tr>\n",
       "    <tr>\n",
       "      <th>2008-08-01</th>\n",
       "      <td>6134809</td>\n",
       "    </tr>\n",
       "    <tr>\n",
       "      <th>...</th>\n",
       "      <td>...</td>\n",
       "    </tr>\n",
       "    <tr>\n",
       "      <th>2017-11-01</th>\n",
       "      <td>9226346</td>\n",
       "    </tr>\n",
       "    <tr>\n",
       "      <th>2017-12-01</th>\n",
       "      <td>7455220</td>\n",
       "    </tr>\n",
       "    <tr>\n",
       "      <th>2018-01-01</th>\n",
       "      <td>8965179</td>\n",
       "    </tr>\n",
       "    <tr>\n",
       "      <th>2018-02-01</th>\n",
       "      <td>8114870</td>\n",
       "    </tr>\n",
       "    <tr>\n",
       "      <th>2018-03-01</th>\n",
       "      <td>8593300</td>\n",
       "    </tr>\n",
       "  </tbody>\n",
       "</table>\n",
       "<p>120 rows × 1 columns</p>\n",
       "</div>"
      ],
      "text/plain": [
       "            Total_admissions\n",
       "Year                        \n",
       "2008-04-01           6918254\n",
       "2008-05-01           6506145\n",
       "2008-06-01           6809466\n",
       "2008-07-01           7163355\n",
       "2008-08-01           6134809\n",
       "...                      ...\n",
       "2017-11-01           9226346\n",
       "2017-12-01           7455220\n",
       "2018-01-01           8965179\n",
       "2018-02-01           8114870\n",
       "2018-03-01           8593300\n",
       "\n",
       "[120 rows x 1 columns]"
      ]
     },
     "execution_count": 15,
     "metadata": {},
     "output_type": "execute_result"
    }
   ],
   "source": [
    "new_df"
   ]
  },
  {
   "cell_type": "code",
   "execution_count": 16,
   "id": "dd6be473",
   "metadata": {},
   "outputs": [
    {
     "data": {
      "text/plain": [
       "<AxesSubplot:xlabel='Year'>"
      ]
     },
     "execution_count": 16,
     "metadata": {},
     "output_type": "execute_result"
    },
    {
     "data": {
      "image/png": "[encoded data removed]",
      "text/plain": [
       "<Figure size 432x288 with 1 Axes>"
      ]
     },
     "metadata": {
      "needs_background": "light"
     },
     "output_type": "display_data"
    }
   ],
   "source": [
    "new_df.plot()"
   ]
  },
  {
   "cell_type": "code",
   "execution_count": 17,
   "id": "312c9379",
   "metadata": {},
   "outputs": [],
   "source": [
    "# Testing for stationarity\n",
    "from statsmodels.tsa.stattools import adfuller"
   ]
  },
  {
   "cell_type": "code",
   "execution_count": 18,
   "id": "ae9a858c",
   "metadata": {},
   "outputs": [],
   "source": [
    "test_result = adfuller(new_df[\"Total_admissions\"])"
   ]
  },
  {
   "cell_type": "code",
   "execution_count": 62,
   "id": "3b4f30b1",
   "metadata": {},
   "outputs": [],
   "source": [
    "#H0: It is non staionary\n",
    "#H1: It is stationary\n",
    "\n",
    "def adfuller_test(Total_admissions):\n",
    "    result = adfuller(Total_admissions)\n",
    "    labels = [\"ADF Test statistic\", \"p-value\", \"#Lags used\", \"Number of oberservations used\"]\n",
    "    for value,label in zip(result,labels):\n",
    "        print(label+' : '+str(value) )\n",
    "    if result[1] <= 0.05:\n",
    "        print(\"strong evidence against the null hypothesis(Ho), reject the null hypothesis. Data has no unit root and it is staionary\")\n",
    "    else:\n",
    "        print(\"Weak evidence against the null hypothesis, time series has a unit root, indicating it is non-stationary\")"
   ]
  },
  {
   "cell_type": "code",
   "execution_count": 20,
   "id": "c4848937",
   "metadata": {},
   "outputs": [
    {
     "name": "stdout",
     "output_type": "stream",
     "text": [
      "ADF Test statistic : -1.6944501433627661\n",
      "p-value : 0.43397417467741156\n",
      "#Lags used : 11\n",
      "Number of oberservations used : 108\n",
      "Weak evidence against the null hypothesis, time series has a unit root, idicating it is non-stationary\n"
     ]
    }
   ],
   "source": [
    "adfuller_test(new_df[\"Total_admissions\"])"
   ]
  },
  {
   "cell_type": "code",
   "execution_count": 184,
   "id": "666dacd8",
   "metadata": {},
   "outputs": [],
   "source": [
    "# Differenecing the data to make it stationary\n",
    "# Shfiting the data by 12 positions due to data being seasonal\n",
    "new_df['seasonal first difference'] = new_df[\"Total_admissions\"] - new_df[\"Total_admissions\"].shift(12)"
   ]
  },
  {
   "cell_type": "code",
   "execution_count": 185,
   "id": "ab69189c",
   "metadata": {},
   "outputs": [
    {
     "name": "stdout",
     "output_type": "stream",
     "text": [
      "ADF Test statistic : -1.8142115079760779\n",
      "p-value : 0.3734292491149153\n",
      "#Lags used : 13\n",
      "Number of oberservations used : 94\n",
      "Weak evidence against the null hypothesis, time series has a unit root, indicating it is non-stationary\n"
     ]
    }
   ],
   "source": [
    "# Testing for stationarity on shifted data\n",
    "adfuller_test(new_df[\"seasonal first difference\"].dropna())"
   ]
  },
  {
   "cell_type": "code",
   "execution_count": 186,
   "id": "7b2df5fb",
   "metadata": {},
   "outputs": [
    {
     "data": {
      "text/plain": [
       "<AxesSubplot:xlabel='Year'>"
      ]
     },
     "execution_count": 186,
     "metadata": {},
     "output_type": "execute_result"
    },
    {
     "data": {
      "image/png": "[encoded data removed]",
      "text/plain": [
       "<Figure size 432x288 with 1 Axes>"
      ]
     },
     "metadata": {
      "needs_background": "light"
     },
     "output_type": "display_data"
    }
   ],
   "source": [
    "new_df[\"seasonal first difference\"].plot()"
   ]
  },
  {
   "cell_type": "code",
   "execution_count": 187,
   "id": "f581af2d",
   "metadata": {},
   "outputs": [],
   "source": [
    "new_df['Adjusted log'] = np.log(new_df[\"Total_admissions\"])\n",
    "new_df['Adjusted sqrt'] = np.sqrt(new_df[\"Total_admissions\"])\n",
    "new_df['Adjusted cbrt'] = np.cbrt(new_df[\"Total_admissions\"])"
   ]
  },
  {
   "cell_type": "code",
   "execution_count": 188,
   "id": "f49144ed",
   "metadata": {},
   "outputs": [
    {
     "data": {
      "text/plain": [
       "<AxesSubplot:xlabel='Year'>"
      ]
     },
     "execution_count": 188,
     "metadata": {},
     "output_type": "execute_result"
    },
    {
     "data": {
      "image/png": "[encoded data removed]",
      "text/plain": [
       "<Figure size 432x288 with 1 Axes>"
      ]
     },
     "metadata": {
      "needs_background": "light"
     },
     "output_type": "display_data"
    }
   ],
   "source": [
    "new_df[\"Total_admissions\"].dropna().plot()"
   ]
  },
  {
   "cell_type": "code",
   "execution_count": 189,
   "id": "26de2528",
   "metadata": {},
   "outputs": [],
   "source": [
    "new_df[\"Total_admissions_log_diff\"] = new_df[\"Adjusted log\"] - new_df[\"Adjusted log\"].shift(12)"
   ]
  },
  {
   "cell_type": "code",
   "execution_count": 190,
   "id": "0d371c4f",
   "metadata": {},
   "outputs": [
    {
     "data": {
      "text/plain": [
       "<AxesSubplot:xlabel='Year'>"
      ]
     },
     "execution_count": 190,
     "metadata": {},
     "output_type": "execute_result"
    },
    {
     "data": {
      "image/png": "[encoded data removed]",
      "text/plain": [
       "<Figure size 432x288 with 1 Axes>"
      ]
     },
     "metadata": {
      "needs_background": "light"
     },
     "output_type": "display_data"
    }
   ],
   "source": [
    "new_df[\"Total_admissions_log_diff\"].dropna().plot()"
   ]
  },
  {
   "cell_type": "code",
   "execution_count": 191,
   "id": "7ab9d2a2",
   "metadata": {},
   "outputs": [
    {
     "name": "stdout",
     "output_type": "stream",
     "text": [
      "ADF Test statistic : -2.755796301528552\n",
      "p-value : 0.06487062537766337\n",
      "#Lags used : 3\n",
      "Number of oberservations used : 104\n",
      "Weak evidence against the null hypothesis, time series has a unit root, indicating it is non-stationary\n"
     ]
    }
   ],
   "source": [
    "adfuller_test(new_df[\"Total_admissions_log_diff\"].dropna())"
   ]
  },
  {
   "cell_type": "code",
   "execution_count": 192,
   "id": "2d7d7cc6",
   "metadata": {},
   "outputs": [],
   "source": [
    "new_df[\"Total_admissions_sqrt_diff\"] = new_df[\"Adjusted sqrt\"] - new_df[\"Adjusted sqrt\"].shift(12)"
   ]
  },
  {
   "cell_type": "code",
   "execution_count": 193,
   "id": "7b75b81c",
   "metadata": {},
   "outputs": [
    {
     "data": {
      "text/plain": [
       "<AxesSubplot:xlabel='Year'>"
      ]
     },
     "execution_count": 193,
     "metadata": {},
     "output_type": "execute_result"
    },
    {
     "data": {
      "image/png": "[encoded data removed]",
      "text/plain": [
       "<Figure size 432x288 with 1 Axes>"
      ]
     },
     "metadata": {
      "needs_background": "light"
     },
     "output_type": "display_data"
    }
   ],
   "source": [
    "new_df[\"Total_admissions_sqrt_diff\"].dropna().plot()"
   ]
  },
  {
   "cell_type": "code",
   "execution_count": 194,
   "id": "2ad60dd7",
   "metadata": {},
   "outputs": [
    {
     "name": "stdout",
     "output_type": "stream",
     "text": [
      "ADF Test statistic : -2.608511326665921\n",
      "p-value : 0.09125087808572868\n",
      "#Lags used : 12\n",
      "Number of oberservations used : 95\n",
      "Weak evidence against the null hypothesis, time series has a unit root, indicating it is non-stationary\n"
     ]
    }
   ],
   "source": [
    "adfuller_test(new_df[\"Total_admissions_sqrt_diff\"].dropna())"
   ]
  },
  {
   "cell_type": "code",
   "execution_count": 195,
   "id": "ab26f779",
   "metadata": {},
   "outputs": [],
   "source": [
    "new_df[\"Total_admissions_cbrt_diff\"] = new_df[\"Adjusted cbrt\"] - new_df[\"Adjusted cbrt\"].shift(12)"
   ]
  },
  {
   "cell_type": "code",
   "execution_count": 196,
   "id": "f0cf1ac5",
   "metadata": {},
   "outputs": [
    {
     "data": {
      "text/plain": [
       "<AxesSubplot:xlabel='Year'>"
      ]
     },
     "execution_count": 196,
     "metadata": {},
     "output_type": "execute_result"
    },
    {
     "data": {
      "image/png": "[encoded data removed]",
      "text/plain": [
       "<Figure size 432x288 with 1 Axes>"
      ]
     },
     "metadata": {
      "needs_background": "light"
     },
     "output_type": "display_data"
    }
   ],
   "source": [
    "new_df[\"Total_admissions_cbrt_diff\"].dropna().plot()"
   ]
  },
  {
   "cell_type": "code",
   "execution_count": 197,
   "id": "0d3376d9",
   "metadata": {},
   "outputs": [
    {
     "name": "stdout",
     "output_type": "stream",
     "text": [
      "ADF Test statistic : -2.614041378899574\n",
      "p-value : 0.09012978728677468\n",
      "#Lags used : 12\n",
      "Number of oberservations used : 95\n",
      "Weak evidence against the null hypothesis, time series has a unit root, indicating it is non-stationary\n"
     ]
    }
   ],
   "source": [
    "adfuller_test(new_df[\"Total_admissions_cbrt_diff\"].dropna())"
   ]
  },
  {
   "cell_type": "code",
   "execution_count": 198,
   "id": "139b3a30",
   "metadata": {},
   "outputs": [],
   "source": [
    "new_df[\"MA20\"] = new_df[\"Total_admissions\"].rolling(window = 30).mean()"
   ]
  },
  {
   "cell_type": "code",
   "execution_count": 199,
   "id": "006c2f67",
   "metadata": {},
   "outputs": [
    {
     "data": {
      "text/plain": [
       "<AxesSubplot:xlabel='Year'>"
      ]
     },
     "execution_count": 199,
     "metadata": {},
     "output_type": "execute_result"
    },
    {
     "data": {
      "image/png": "[encoded data removed]",
      "text/plain": [
       "<Figure size 432x288 with 1 Axes>"
      ]
     },
     "metadata": {
      "needs_background": "light"
     },
     "output_type": "display_data"
    }
   ],
   "source": [
    "new_df[\"MA20\"].dropna().plot()"
   ]
  },
  {
   "cell_type": "code",
   "execution_count": 200,
   "id": "2b02f272",
   "metadata": {},
   "outputs": [
    {
     "name": "stdout",
     "output_type": "stream",
     "text": [
      "ADF Test statistic : -1.7930867046946593\n",
      "p-value : 0.3838993143885129\n",
      "#Lags used : 12\n",
      "Number of oberservations used : 78\n",
      "Weak evidence against the null hypothesis, time series has a unit root, indicating it is non-stationary\n"
     ]
    }
   ],
   "source": [
    "adfuller_test(new_df[\"MA20\"].dropna())"
   ]
  },
  {
   "cell_type": "code",
   "execution_count": 201,
   "id": "c80fbc5d",
   "metadata": {},
   "outputs": [],
   "source": [
    "import statsmodels.api as sm"
   ]
  },
  {
   "cell_type": "code",
   "execution_count": 202,
   "id": "12f3990e",
   "metadata": {},
   "outputs": [],
   "source": [
    "from statsmodels.graphics.tsaplots import plot_acf,plot_pacf"
   ]
  },
  {
   "cell_type": "code",
   "execution_count": 203,
   "id": "54bb43ff",
   "metadata": {},
   "outputs": [
    {
     "name": "stderr",
     "output_type": "stream",
     "text": [
      "/opt/anaconda3/lib/python3.8/site-packages/statsmodels/regression/linear_model.py:1434: RuntimeWarning: invalid value encountered in sqrt\n",
      "  return rho, np.sqrt(sigmasq)\n"
     ]
    },
    {
     "data": {
      "image/png": "[encoded data removed]",
      "text/plain": [
       "<Figure size 864x576 with 2 Axes>"
      ]
     },
     "metadata": {
      "needs_background": "light"
     },
     "output_type": "display_data"
    }
   ],
   "source": [
    "# Plotting the Autocorrelation and partial correlation charts\n",
    "fig = plt.figure(figsize=(12,8))\n",
    "ax1 = fig.add_subplot(211)\n",
    "fig = sm.graphics.tsa.plot_acf(new_df[\"seasonal first difference\"].dropna(),lags=40,ax=ax1)\n",
    "ax2 = fig.add_subplot(212)\n",
    "fig = sm.graphics.tsa.plot_pacf(new_df[\"seasonal first difference\"].dropna(),lags=40,ax=ax2)"
   ]
  },
  {
   "cell_type": "code",
   "execution_count": 204,
   "id": "8bdf6c8c",
   "metadata": {},
   "outputs": [
    {
     "name": "stderr",
     "output_type": "stream",
     "text": [
      "/opt/anaconda3/lib/python3.8/site-packages/statsmodels/tsa/base/tsa_model.py:524: ValueWarning: No frequency information was provided, so inferred frequency MS will be used.\n",
      "  warnings.warn('No frequency information was'\n",
      "/opt/anaconda3/lib/python3.8/site-packages/statsmodels/tsa/base/tsa_model.py:524: ValueWarning: No frequency information was provided, so inferred frequency MS will be used.\n",
      "  warnings.warn('No frequency information was'\n"
     ]
    }
   ],
   "source": [
    "# Creating seasonal Arima model\n",
    "model = sm.tsa.statespace.SARIMAX(new_df[\"Total_admissions\"],order=(1,1,1),seasonal_order=(1,1,1,12))"
   ]
  },
  {
   "cell_type": "code",
   "execution_count": 205,
   "id": "d01e011f",
   "metadata": {},
   "outputs": [],
   "source": [
    "results = model.fit()"
   ]
  },
  {
   "cell_type": "code",
   "execution_count": 206,
   "id": "628f4ce8",
   "metadata": {},
   "outputs": [
    {
     "data": {
      "text/html": [
       "<table class=\"simpletable\">\n",
       "<caption>SARIMAX Results</caption>\n",
       "<tr>\n",
       "  <th>Dep. Variable:</th>          <td>Total_admissions</td>        <th>  No. Observations:  </th>    <td>120</td>   \n",
       "</tr>\n",
       "<tr>\n",
       "  <th>Model:</th>           <td>SARIMAX(1, 1, 1)x(1, 1, 1, 12)</td> <th>  Log Likelihood     </th> <td>-1562.981</td>\n",
       "</tr>\n",
       "<tr>\n",
       "  <th>Date:</th>                   <td>Wed, 27 Apr 2022</td>        <th>  AIC                </th> <td>3135.961</td> \n",
       "</tr>\n",
       "<tr>\n",
       "  <th>Time:</th>                       <td>05:24:39</td>            <th>  BIC                </th> <td>3149.325</td> \n",
       "</tr>\n",
       "<tr>\n",
       "  <th>Sample:</th>                    <td>04-01-2008</td>           <th>  HQIC               </th> <td>3141.379</td> \n",
       "</tr>\n",
       "<tr>\n",
       "  <th></th>                          <td>- 03-01-2018</td>          <th>                     </th>     <td> </td>    \n",
       "</tr>\n",
       "<tr>\n",
       "  <th>Covariance Type:</th>               <td>opg</td>              <th>                     </th>     <td> </td>    \n",
       "</tr>\n",
       "</table>\n",
       "<table class=\"simpletable\">\n",
       "<tr>\n",
       "      <td></td>        <th>coef</th>     <th>std err</th>      <th>z</th>      <th>P>|z|</th>  <th>[0.025</th>    <th>0.975]</th>  \n",
       "</tr>\n",
       "<tr>\n",
       "  <th>ar.L1</th>    <td>   -0.0453</td> <td>    0.263</td> <td>   -0.172</td> <td> 0.863</td> <td>   -0.561</td> <td>    0.471</td>\n",
       "</tr>\n",
       "<tr>\n",
       "  <th>ma.L1</th>    <td>   -0.2912</td> <td>    0.276</td> <td>   -1.055</td> <td> 0.292</td> <td>   -0.832</td> <td>    0.250</td>\n",
       "</tr>\n",
       "<tr>\n",
       "  <th>ar.S.L12</th> <td>    0.6054</td> <td>    0.046</td> <td>   13.026</td> <td> 0.000</td> <td>    0.514</td> <td>    0.696</td>\n",
       "</tr>\n",
       "<tr>\n",
       "  <th>ma.S.L12</th> <td>   -1.0000</td> <td>    0.085</td> <td>  -11.720</td> <td> 0.000</td> <td>   -1.167</td> <td>   -0.833</td>\n",
       "</tr>\n",
       "<tr>\n",
       "  <th>sigma2</th>   <td> 1.649e+11</td> <td> 5.18e-13</td> <td> 3.19e+23</td> <td> 0.000</td> <td> 1.65e+11</td> <td> 1.65e+11</td>\n",
       "</tr>\n",
       "</table>\n",
       "<table class=\"simpletable\">\n",
       "<tr>\n",
       "  <th>Ljung-Box (L1) (Q):</th>     <td>23.40</td> <th>  Jarque-Bera (JB):  </th> <td>13.62</td>\n",
       "</tr>\n",
       "<tr>\n",
       "  <th>Prob(Q):</th>                <td>0.00</td>  <th>  Prob(JB):          </th> <td>0.00</td> \n",
       "</tr>\n",
       "<tr>\n",
       "  <th>Heteroskedasticity (H):</th> <td>1.10</td>  <th>  Skew:              </th> <td>-0.64</td>\n",
       "</tr>\n",
       "<tr>\n",
       "  <th>Prob(H) (two-sided):</th>    <td>0.77</td>  <th>  Kurtosis:          </th> <td>4.19</td> \n",
       "</tr>\n",
       "</table><br/><br/>Warnings:<br/>[1] Covariance matrix calculated using the outer product of gradients (complex-step).<br/>[2] Covariance matrix is singular or near-singular, with condition number 5.29e+40. Standard errors may be unstable."
      ],
      "text/plain": [
       "<class 'statsmodels.iolib.summary.Summary'>\n",
       "\"\"\"\n",
       "                                     SARIMAX Results                                      \n",
       "==========================================================================================\n",
       "Dep. Variable:                   Total_admissions   No. Observations:                  120\n",
       "Model:             SARIMAX(1, 1, 1)x(1, 1, 1, 12)   Log Likelihood               -1562.981\n",
       "Date:                            Wed, 27 Apr 2022   AIC                           3135.961\n",
       "Time:                                    05:24:39   BIC                           3149.325\n",
       "Sample:                                04-01-2008   HQIC                          3141.379\n",
       "                                     - 03-01-2018                                         \n",
       "Covariance Type:                              opg                                         \n",
       "==============================================================================\n",
       "                 coef    std err          z      P>|z|      [0.025      0.975]\n",
       "------------------------------------------------------------------------------\n",
       "ar.L1         -0.0453      0.263     -0.172      0.863      -0.561       0.471\n",
       "ma.L1         -0.2912      0.276     -1.055      0.292      -0.832       0.250\n",
       "ar.S.L12       0.6054      0.046     13.026      0.000       0.514       0.696\n",
       "ma.S.L12      -1.0000      0.085    -11.720      0.000      -1.167      -0.833\n",
       "sigma2      1.649e+11   5.18e-13   3.19e+23      0.000    1.65e+11    1.65e+11\n",
       "===================================================================================\n",
       "Ljung-Box (L1) (Q):                  23.40   Jarque-Bera (JB):                13.62\n",
       "Prob(Q):                              0.00   Prob(JB):                         0.00\n",
       "Heteroskedasticity (H):               1.10   Skew:                            -0.64\n",
       "Prob(H) (two-sided):                  0.77   Kurtosis:                         4.19\n",
       "===================================================================================\n",
       "\n",
       "Warnings:\n",
       "[1] Covariance matrix calculated using the outer product of gradients (complex-step).\n",
       "[2] Covariance matrix is singular or near-singular, with condition number 5.29e+40. Standard errors may be unstable.\n",
       "\"\"\""
      ]
     },
     "execution_count": 206,
     "metadata": {},
     "output_type": "execute_result"
    }
   ],
   "source": [
    "results.summary()"
   ]
  },
  {
   "cell_type": "code",
   "execution_count": 220,
   "id": "dfb4fce5",
   "metadata": {},
   "outputs": [],
   "source": [
    "new_df['forecast'] = results.predict(start=90, end=103,dynamic=True)"
   ]
  },
  {
   "cell_type": "code",
   "execution_count": 221,
   "id": "98f4f4da",
   "metadata": {},
   "outputs": [
    {
     "data": {
      "text/plain": [
       "<AxesSubplot:xlabel='Year'>"
      ]
     },
     "execution_count": 221,
     "metadata": {},
     "output_type": "execute_result"
    },
    {
     "data": {
      "image/png": "[encoded data removed]",
      "text/plain": [
       "<Figure size 864x576 with 1 Axes>"
      ]
     },
     "metadata": {
      "needs_background": "light"
     },
     "output_type": "display_data"
    }
   ],
   "source": [
    "new_df[['Total_admissions', 'forecast']].plot(figsize=(12,8))"
   ]
  },
  {
   "cell_type": "code",
   "execution_count": 222,
   "id": "4e2db8f3",
   "metadata": {},
   "outputs": [],
   "source": [
    "# Make predictions using the model \n",
    "from pandas.tseries.offsets import DateOffset"
   ]
  },
  {
   "cell_type": "code",
   "execution_count": 265,
   "id": "4db8cbba",
   "metadata": {},
   "outputs": [],
   "source": [
    "future_dates_24 = [new_df.index[-1]+ DateOffset(months=x)for x in range(0,24)]"
   ]
  },
  {
   "cell_type": "code",
   "execution_count": 266,
   "id": "aafd3838",
   "metadata": {},
   "outputs": [],
   "source": [
    "future_dataset_df = pd.DataFrame(index=future_dates_24[1:],columns=new_df.columns)"
   ]
  },
  {
   "cell_type": "code",
   "execution_count": 225,
   "id": "68b4c945",
   "metadata": {},
   "outputs": [
    {
     "data": {
      "text/html": [
       "<div>\n",
       "<style scoped>\n",
       "    .dataframe tbody tr th:only-of-type {\n",
       "        vertical-align: middle;\n",
       "    }\n",
       "\n",
       "    .dataframe tbody tr th {\n",
       "        vertical-align: top;\n",
       "    }\n",
       "\n",
       "    .dataframe thead th {\n",
       "        text-align: right;\n",
       "    }\n",
       "</style>\n",
       "<table border=\"1\" class=\"dataframe\">\n",
       "  <thead>\n",
       "    <tr style=\"text-align: right;\">\n",
       "      <th></th>\n",
       "      <th>Total_admissions</th>\n",
       "      <th>seasonal first difference</th>\n",
       "      <th>forecast</th>\n",
       "      <th>Adjusted log</th>\n",
       "      <th>Adjusted sqrt</th>\n",
       "      <th>Adjusted cbrt</th>\n",
       "      <th>Total_admissions_log_diff</th>\n",
       "      <th>Total_admissions_sqrt_diff</th>\n",
       "      <th>Total_admissions_cbrt_diff</th>\n",
       "      <th>MA20</th>\n",
       "    </tr>\n",
       "  </thead>\n",
       "  <tbody>\n",
       "    <tr>\n",
       "      <th>2019-10-01</th>\n",
       "      <td>NaN</td>\n",
       "      <td>NaN</td>\n",
       "      <td>NaN</td>\n",
       "      <td>NaN</td>\n",
       "      <td>NaN</td>\n",
       "      <td>NaN</td>\n",
       "      <td>NaN</td>\n",
       "      <td>NaN</td>\n",
       "      <td>NaN</td>\n",
       "      <td>NaN</td>\n",
       "    </tr>\n",
       "    <tr>\n",
       "      <th>2019-11-01</th>\n",
       "      <td>NaN</td>\n",
       "      <td>NaN</td>\n",
       "      <td>NaN</td>\n",
       "      <td>NaN</td>\n",
       "      <td>NaN</td>\n",
       "      <td>NaN</td>\n",
       "      <td>NaN</td>\n",
       "      <td>NaN</td>\n",
       "      <td>NaN</td>\n",
       "      <td>NaN</td>\n",
       "    </tr>\n",
       "    <tr>\n",
       "      <th>2019-12-01</th>\n",
       "      <td>NaN</td>\n",
       "      <td>NaN</td>\n",
       "      <td>NaN</td>\n",
       "      <td>NaN</td>\n",
       "      <td>NaN</td>\n",
       "      <td>NaN</td>\n",
       "      <td>NaN</td>\n",
       "      <td>NaN</td>\n",
       "      <td>NaN</td>\n",
       "      <td>NaN</td>\n",
       "    </tr>\n",
       "    <tr>\n",
       "      <th>2020-01-01</th>\n",
       "      <td>NaN</td>\n",
       "      <td>NaN</td>\n",
       "      <td>NaN</td>\n",
       "      <td>NaN</td>\n",
       "      <td>NaN</td>\n",
       "      <td>NaN</td>\n",
       "      <td>NaN</td>\n",
       "      <td>NaN</td>\n",
       "      <td>NaN</td>\n",
       "      <td>NaN</td>\n",
       "    </tr>\n",
       "    <tr>\n",
       "      <th>2020-02-01</th>\n",
       "      <td>NaN</td>\n",
       "      <td>NaN</td>\n",
       "      <td>NaN</td>\n",
       "      <td>NaN</td>\n",
       "      <td>NaN</td>\n",
       "      <td>NaN</td>\n",
       "      <td>NaN</td>\n",
       "      <td>NaN</td>\n",
       "      <td>NaN</td>\n",
       "      <td>NaN</td>\n",
       "    </tr>\n",
       "  </tbody>\n",
       "</table>\n",
       "</div>"
      ],
      "text/plain": [
       "           Total_admissions seasonal first difference forecast Adjusted log  \\\n",
       "2019-10-01              NaN                       NaN      NaN          NaN   \n",
       "2019-11-01              NaN                       NaN      NaN          NaN   \n",
       "2019-12-01              NaN                       NaN      NaN          NaN   \n",
       "2020-01-01              NaN                       NaN      NaN          NaN   \n",
       "2020-02-01              NaN                       NaN      NaN          NaN   \n",
       "\n",
       "           Adjusted sqrt Adjusted cbrt Total_admissions_log_diff  \\\n",
       "2019-10-01           NaN           NaN                       NaN   \n",
       "2019-11-01           NaN           NaN                       NaN   \n",
       "2019-12-01           NaN           NaN                       NaN   \n",
       "2020-01-01           NaN           NaN                       NaN   \n",
       "2020-02-01           NaN           NaN                       NaN   \n",
       "\n",
       "           Total_admissions_sqrt_diff Total_admissions_cbrt_diff MA20  \n",
       "2019-10-01                        NaN                        NaN  NaN  \n",
       "2019-11-01                        NaN                        NaN  NaN  \n",
       "2019-12-01                        NaN                        NaN  NaN  \n",
       "2020-01-01                        NaN                        NaN  NaN  \n",
       "2020-02-01                        NaN                        NaN  NaN  "
      ]
     },
     "execution_count": 225,
     "metadata": {},
     "output_type": "execute_result"
    }
   ],
   "source": [
    "future_dataset_df.tail()"
   ]
  },
  {
   "cell_type": "code",
   "execution_count": 226,
   "id": "644dd4b2",
   "metadata": {},
   "outputs": [],
   "source": [
    "future_df = pd.concat([new_df,future_dataset_df])"
   ]
  },
  {
   "cell_type": "code",
   "execution_count": 260,
   "id": "8e57145f",
   "metadata": {},
   "outputs": [],
   "source": [
    "future_df[\"forecast\"] = results.predict(start = 119, end = 160, dynamic=True)"
   ]
  },
  {
   "cell_type": "code",
   "execution_count": 261,
   "id": "90402fc0",
   "metadata": {},
   "outputs": [
    {
     "data": {
      "text/plain": [
       "<AxesSubplot:>"
      ]
     },
     "execution_count": 261,
     "metadata": {},
     "output_type": "execute_result"
    },
    {
     "data": {
      "image/png": "[encoded data removed]",
      "text/plain": [
       "<Figure size 864x576 with 1 Axes>"
      ]
     },
     "metadata": {
      "needs_background": "light"
     },
     "output_type": "display_data"
    }
   ],
   "source": [
    "future_df[[\"Total_admissions\",\"forecast\"]].plot(figsize=(12,8))"
   ]
  },
  {
   "cell_type": "code",
   "execution_count": 217,
   "id": "c18c88cc",
   "metadata": {},
   "outputs": [
    {
     "ename": "NameError",
     "evalue": "name 'residuals' is not defined",
     "output_type": "error",
     "traceback": [
      "\u001b[0;31m---------------------------------------------------------------------------\u001b[0m",
      "\u001b[0;31mNameError\u001b[0m                                 Traceback (most recent call last)",
      "\u001b[0;32m<ipython-input-217-797eb820fd94>\u001b[0m in \u001b[0;36m<module>\u001b[0;34m\u001b[0m\n\u001b[0;32m----> 1\u001b[0;31m \u001b[0mprint\u001b[0m\u001b[0;34m(\u001b[0m\u001b[0;34m\"Mean absolute percent error:\"\u001b[0m\u001b[0;34m,\u001b[0m \u001b[0mround\u001b[0m\u001b[0;34m(\u001b[0m\u001b[0mnp\u001b[0m\u001b[0;34m.\u001b[0m\u001b[0mmean\u001b[0m\u001b[0;34m(\u001b[0m\u001b[0mabs\u001b[0m\u001b[0;34m(\u001b[0m\u001b[0mresiduals\u001b[0m\u001b[0;34m/\u001b[0m\u001b[0mnew_df\u001b[0m\u001b[0;34m[\u001b[0m\u001b[0;34m\"Total_admissions\"\u001b[0m\u001b[0;34m]\u001b[0m\u001b[0;34m)\u001b[0m\u001b[0;34m)\u001b[0m\u001b[0;34m,\u001b[0m\u001b[0;36m4\u001b[0m\u001b[0;34m)\u001b[0m\u001b[0;34m)\u001b[0m\u001b[0;34m\u001b[0m\u001b[0;34m\u001b[0m\u001b[0m\n\u001b[0m",
      "\u001b[0;31mNameError\u001b[0m: name 'residuals' is not defined"
     ]
    }
   ],
   "source": [
    "print(\"Mean absolute percent error:\", round(np.mean(abs(residuals/new_df[\"Total_admissions\"])),4))"
   ]
  },
  {
   "cell_type": "code",
   "execution_count": 262,
   "id": "18b47588",
   "metadata": {},
   "outputs": [
    {
     "data": {
      "text/html": [
       "<div>\n",
       "<style scoped>\n",
       "    .dataframe tbody tr th:only-of-type {\n",
       "        vertical-align: middle;\n",
       "    }\n",
       "\n",
       "    .dataframe tbody tr th {\n",
       "        vertical-align: top;\n",
       "    }\n",
       "\n",
       "    .dataframe thead th {\n",
       "        text-align: right;\n",
       "    }\n",
       "</style>\n",
       "<table border=\"1\" class=\"dataframe\">\n",
       "  <thead>\n",
       "    <tr style=\"text-align: right;\">\n",
       "      <th></th>\n",
       "      <th>Total_admissions</th>\n",
       "      <th>seasonal first difference</th>\n",
       "      <th>forecast</th>\n",
       "      <th>Adjusted log</th>\n",
       "      <th>Adjusted sqrt</th>\n",
       "      <th>Adjusted cbrt</th>\n",
       "      <th>Total_admissions_log_diff</th>\n",
       "      <th>Total_admissions_sqrt_diff</th>\n",
       "      <th>Total_admissions_cbrt_diff</th>\n",
       "      <th>MA20</th>\n",
       "    </tr>\n",
       "  </thead>\n",
       "  <tbody>\n",
       "    <tr>\n",
       "      <th>2016-11-01</th>\n",
       "      <td>9266581</td>\n",
       "      <td>580351.0</td>\n",
       "      <td>NaN</td>\n",
       "      <td>16.041925</td>\n",
       "      <td>3044.105944</td>\n",
       "      <td>210.042176</td>\n",
       "      <td>0.064675</td>\n",
       "      <td>96.864862</td>\n",
       "      <td>4.479731</td>\n",
       "      <td>8.462412e+06</td>\n",
       "    </tr>\n",
       "    <tr>\n",
       "      <th>2016-12-01</th>\n",
       "      <td>7766670</td>\n",
       "      <td>-266456.0</td>\n",
       "      <td>NaN</td>\n",
       "      <td>15.865352</td>\n",
       "      <td>2786.874594</td>\n",
       "      <td>198.036367</td>\n",
       "      <td>-0.033732</td>\n",
       "      <td>-47.402387</td>\n",
       "      <td>-2.239303</td>\n",
       "      <td>8.442609e+06</td>\n",
       "    </tr>\n",
       "    <tr>\n",
       "      <th>2017-01-01</th>\n",
       "      <td>8614083</td>\n",
       "      <td>318031.0</td>\n",
       "      <td>NaN</td>\n",
       "      <td>15.968909</td>\n",
       "      <td>2934.975809</td>\n",
       "      <td>204.991735</td>\n",
       "      <td>0.037619</td>\n",
       "      <td>54.689018</td>\n",
       "      <td>2.554457</td>\n",
       "      <td>8.440505e+06</td>\n",
       "    </tr>\n",
       "    <tr>\n",
       "      <th>2017-02-01</th>\n",
       "      <td>8200556</td>\n",
       "      <td>-408170.0</td>\n",
       "      <td>NaN</td>\n",
       "      <td>15.919713</td>\n",
       "      <td>2863.661293</td>\n",
       "      <td>201.657525</td>\n",
       "      <td>-0.048574</td>\n",
       "      <td>-70.401760</td>\n",
       "      <td>-3.291707</td>\n",
       "      <td>8.470097e+06</td>\n",
       "    </tr>\n",
       "    <tr>\n",
       "      <th>2017-03-01</th>\n",
       "      <td>9498590</td>\n",
       "      <td>836609.0</td>\n",
       "      <td>NaN</td>\n",
       "      <td>16.066654</td>\n",
       "      <td>3081.978261</td>\n",
       "      <td>211.780701</td>\n",
       "      <td>0.092200</td>\n",
       "      <td>138.853901</td>\n",
       "      <td>6.409721</td>\n",
       "      <td>8.506340e+06</td>\n",
       "    </tr>\n",
       "    <tr>\n",
       "      <th>2017-04-01</th>\n",
       "      <td>7611013</td>\n",
       "      <td>-967794.0</td>\n",
       "      <td>NaN</td>\n",
       "      <td>15.845107</td>\n",
       "      <td>2758.806445</td>\n",
       "      <td>196.704436</td>\n",
       "      <td>-0.119699</td>\n",
       "      <td>-170.153610</td>\n",
       "      <td>-8.007091</td>\n",
       "      <td>8.468992e+06</td>\n",
       "    </tr>\n",
       "    <tr>\n",
       "      <th>2017-05-01</th>\n",
       "      <td>8816683</td>\n",
       "      <td>94272.0</td>\n",
       "      <td>NaN</td>\n",
       "      <td>15.992156</td>\n",
       "      <td>2969.289982</td>\n",
       "      <td>206.586407</td>\n",
       "      <td>0.010750</td>\n",
       "      <td>15.917165</td>\n",
       "      <td>0.738945</td>\n",
       "      <td>8.495958e+06</td>\n",
       "    </tr>\n",
       "    <tr>\n",
       "      <th>2017-06-01</th>\n",
       "      <td>8911174</td>\n",
       "      <td>-132466.0</td>\n",
       "      <td>NaN</td>\n",
       "      <td>16.002817</td>\n",
       "      <td>2985.158957</td>\n",
       "      <td>207.321802</td>\n",
       "      <td>-0.014756</td>\n",
       "      <td>-22.105581</td>\n",
       "      <td>-1.022242</td>\n",
       "      <td>8.536432e+06</td>\n",
       "    </tr>\n",
       "    <tr>\n",
       "      <th>2017-07-01</th>\n",
       "      <td>8617260</td>\n",
       "      <td>105668.0</td>\n",
       "      <td>NaN</td>\n",
       "      <td>15.969278</td>\n",
       "      <td>2935.516990</td>\n",
       "      <td>205.016933</td>\n",
       "      <td>0.012338</td>\n",
       "      <td>18.053709</td>\n",
       "      <td>0.841446</td>\n",
       "      <td>8.555243e+06</td>\n",
       "    </tr>\n",
       "    <tr>\n",
       "      <th>2017-08-01</th>\n",
       "      <td>8584193</td>\n",
       "      <td>-28051.0</td>\n",
       "      <td>NaN</td>\n",
       "      <td>15.965433</td>\n",
       "      <td>2929.879349</td>\n",
       "      <td>204.754360</td>\n",
       "      <td>-0.003262</td>\n",
       "      <td>-4.783153</td>\n",
       "      <td>-0.222786</td>\n",
       "      <td>8.581249e+06</td>\n",
       "    </tr>\n",
       "    <tr>\n",
       "      <th>2017-09-01</th>\n",
       "      <td>8526287</td>\n",
       "      <td>-376683.0</td>\n",
       "      <td>NaN</td>\n",
       "      <td>15.958665</td>\n",
       "      <td>2919.980651</td>\n",
       "      <td>204.292920</td>\n",
       "      <td>-0.043231</td>\n",
       "      <td>-63.803859</td>\n",
       "      <td>-2.965239</td>\n",
       "      <td>8.574568e+06</td>\n",
       "    </tr>\n",
       "    <tr>\n",
       "      <th>2017-10-01</th>\n",
       "      <td>9113583</td>\n",
       "      <td>330969.0</td>\n",
       "      <td>NaN</td>\n",
       "      <td>16.025276</td>\n",
       "      <td>3018.871147</td>\n",
       "      <td>208.879772</td>\n",
       "      <td>0.036992</td>\n",
       "      <td>55.323610</td>\n",
       "      <td>2.559802</td>\n",
       "      <td>8.605307e+06</td>\n",
       "    </tr>\n",
       "    <tr>\n",
       "      <th>2017-11-01</th>\n",
       "      <td>9226346</td>\n",
       "      <td>-40235.0</td>\n",
       "      <td>NaN</td>\n",
       "      <td>16.037574</td>\n",
       "      <td>3037.490082</td>\n",
       "      <td>209.737738</td>\n",
       "      <td>-0.004351</td>\n",
       "      <td>-6.615862</td>\n",
       "      <td>-0.304438</td>\n",
       "      <td>8.647089e+06</td>\n",
       "    </tr>\n",
       "    <tr>\n",
       "      <th>2017-12-01</th>\n",
       "      <td>7455220</td>\n",
       "      <td>-311450.0</td>\n",
       "      <td>NaN</td>\n",
       "      <td>15.824425</td>\n",
       "      <td>2730.424875</td>\n",
       "      <td>195.353031</td>\n",
       "      <td>-0.040927</td>\n",
       "      <td>-56.449718</td>\n",
       "      <td>-2.683336</td>\n",
       "      <td>8.597783e+06</td>\n",
       "    </tr>\n",
       "    <tr>\n",
       "      <th>2018-01-01</th>\n",
       "      <td>8965179</td>\n",
       "      <td>351096.0</td>\n",
       "      <td>NaN</td>\n",
       "      <td>16.008859</td>\n",
       "      <td>2994.190876</td>\n",
       "      <td>207.739774</td>\n",
       "      <td>0.039950</td>\n",
       "      <td>59.215067</td>\n",
       "      <td>2.748039</td>\n",
       "      <td>8.597428e+06</td>\n",
       "    </tr>\n",
       "    <tr>\n",
       "      <th>2018-02-01</th>\n",
       "      <td>8114870</td>\n",
       "      <td>-85686.0</td>\n",
       "      <td>NaN</td>\n",
       "      <td>15.909209</td>\n",
       "      <td>2848.661089</td>\n",
       "      <td>200.952705</td>\n",
       "      <td>-0.010504</td>\n",
       "      <td>-15.000204</td>\n",
       "      <td>-0.704821</td>\n",
       "      <td>8.609166e+06</td>\n",
       "    </tr>\n",
       "    <tr>\n",
       "      <th>2018-03-01</th>\n",
       "      <td>8593300</td>\n",
       "      <td>-905290.0</td>\n",
       "      <td>9.388118e+06</td>\n",
       "      <td>15.966493</td>\n",
       "      <td>2931.433097</td>\n",
       "      <td>204.826742</td>\n",
       "      <td>-0.100161</td>\n",
       "      <td>-150.545164</td>\n",
       "      <td>-6.953958</td>\n",
       "      <td>8.605050e+06</td>\n",
       "    </tr>\n",
       "    <tr>\n",
       "      <th>2018-04-01</th>\n",
       "      <td>NaN</td>\n",
       "      <td>NaN</td>\n",
       "      <td>8.172372e+06</td>\n",
       "      <td>NaN</td>\n",
       "      <td>NaN</td>\n",
       "      <td>NaN</td>\n",
       "      <td>NaN</td>\n",
       "      <td>NaN</td>\n",
       "      <td>NaN</td>\n",
       "      <td>NaN</td>\n",
       "    </tr>\n",
       "    <tr>\n",
       "      <th>2018-05-01</th>\n",
       "      <td>NaN</td>\n",
       "      <td>NaN</td>\n",
       "      <td>9.035558e+06</td>\n",
       "      <td>NaN</td>\n",
       "      <td>NaN</td>\n",
       "      <td>NaN</td>\n",
       "      <td>NaN</td>\n",
       "      <td>NaN</td>\n",
       "      <td>NaN</td>\n",
       "      <td>NaN</td>\n",
       "    </tr>\n",
       "    <tr>\n",
       "      <th>2018-06-01</th>\n",
       "      <td>NaN</td>\n",
       "      <td>NaN</td>\n",
       "      <td>9.165925e+06</td>\n",
       "      <td>NaN</td>\n",
       "      <td>NaN</td>\n",
       "      <td>NaN</td>\n",
       "      <td>NaN</td>\n",
       "      <td>NaN</td>\n",
       "      <td>NaN</td>\n",
       "      <td>NaN</td>\n",
       "    </tr>\n",
       "    <tr>\n",
       "      <th>2018-07-01</th>\n",
       "      <td>NaN</td>\n",
       "      <td>NaN</td>\n",
       "      <td>9.002285e+06</td>\n",
       "      <td>NaN</td>\n",
       "      <td>NaN</td>\n",
       "      <td>NaN</td>\n",
       "      <td>NaN</td>\n",
       "      <td>NaN</td>\n",
       "      <td>NaN</td>\n",
       "      <td>NaN</td>\n",
       "    </tr>\n",
       "    <tr>\n",
       "      <th>2018-08-01</th>\n",
       "      <td>NaN</td>\n",
       "      <td>NaN</td>\n",
       "      <td>8.797571e+06</td>\n",
       "      <td>NaN</td>\n",
       "      <td>NaN</td>\n",
       "      <td>NaN</td>\n",
       "      <td>NaN</td>\n",
       "      <td>NaN</td>\n",
       "      <td>NaN</td>\n",
       "      <td>NaN</td>\n",
       "    </tr>\n",
       "    <tr>\n",
       "      <th>2018-09-01</th>\n",
       "      <td>NaN</td>\n",
       "      <td>NaN</td>\n",
       "      <td>8.899789e+06</td>\n",
       "      <td>NaN</td>\n",
       "      <td>NaN</td>\n",
       "      <td>NaN</td>\n",
       "      <td>NaN</td>\n",
       "      <td>NaN</td>\n",
       "      <td>NaN</td>\n",
       "      <td>NaN</td>\n",
       "    </tr>\n",
       "    <tr>\n",
       "      <th>2018-10-01</th>\n",
       "      <td>NaN</td>\n",
       "      <td>NaN</td>\n",
       "      <td>9.357947e+06</td>\n",
       "      <td>NaN</td>\n",
       "      <td>NaN</td>\n",
       "      <td>NaN</td>\n",
       "      <td>NaN</td>\n",
       "      <td>NaN</td>\n",
       "      <td>NaN</td>\n",
       "      <td>NaN</td>\n",
       "    </tr>\n",
       "    <tr>\n",
       "      <th>2018-11-01</th>\n",
       "      <td>NaN</td>\n",
       "      <td>NaN</td>\n",
       "      <td>9.393466e+06</td>\n",
       "      <td>NaN</td>\n",
       "      <td>NaN</td>\n",
       "      <td>NaN</td>\n",
       "      <td>NaN</td>\n",
       "      <td>NaN</td>\n",
       "      <td>NaN</td>\n",
       "      <td>NaN</td>\n",
       "    </tr>\n",
       "    <tr>\n",
       "      <th>2018-12-01</th>\n",
       "      <td>NaN</td>\n",
       "      <td>NaN</td>\n",
       "      <td>7.960653e+06</td>\n",
       "      <td>NaN</td>\n",
       "      <td>NaN</td>\n",
       "      <td>NaN</td>\n",
       "      <td>NaN</td>\n",
       "      <td>NaN</td>\n",
       "      <td>NaN</td>\n",
       "      <td>NaN</td>\n",
       "    </tr>\n",
       "    <tr>\n",
       "      <th>2019-01-01</th>\n",
       "      <td>NaN</td>\n",
       "      <td>NaN</td>\n",
       "      <td>9.147394e+06</td>\n",
       "      <td>NaN</td>\n",
       "      <td>NaN</td>\n",
       "      <td>NaN</td>\n",
       "      <td>NaN</td>\n",
       "      <td>NaN</td>\n",
       "      <td>NaN</td>\n",
       "      <td>NaN</td>\n",
       "    </tr>\n",
       "    <tr>\n",
       "      <th>2019-02-01</th>\n",
       "      <td>NaN</td>\n",
       "      <td>NaN</td>\n",
       "      <td>8.517184e+06</td>\n",
       "      <td>NaN</td>\n",
       "      <td>NaN</td>\n",
       "      <td>NaN</td>\n",
       "      <td>NaN</td>\n",
       "      <td>NaN</td>\n",
       "      <td>NaN</td>\n",
       "      <td>NaN</td>\n",
       "    </tr>\n",
       "    <tr>\n",
       "      <th>2019-03-01</th>\n",
       "      <td>NaN</td>\n",
       "      <td>NaN</td>\n",
       "      <td>9.668918e+06</td>\n",
       "      <td>NaN</td>\n",
       "      <td>NaN</td>\n",
       "      <td>NaN</td>\n",
       "      <td>NaN</td>\n",
       "      <td>NaN</td>\n",
       "      <td>NaN</td>\n",
       "      <td>NaN</td>\n",
       "    </tr>\n",
       "    <tr>\n",
       "      <th>2019-04-01</th>\n",
       "      <td>NaN</td>\n",
       "      <td>NaN</td>\n",
       "      <td>8.864695e+06</td>\n",
       "      <td>NaN</td>\n",
       "      <td>NaN</td>\n",
       "      <td>NaN</td>\n",
       "      <td>NaN</td>\n",
       "      <td>NaN</td>\n",
       "      <td>NaN</td>\n",
       "      <td>NaN</td>\n",
       "    </tr>\n",
       "    <tr>\n",
       "      <th>2019-05-01</th>\n",
       "      <td>NaN</td>\n",
       "      <td>NaN</td>\n",
       "      <td>9.520337e+06</td>\n",
       "      <td>NaN</td>\n",
       "      <td>NaN</td>\n",
       "      <td>NaN</td>\n",
       "      <td>NaN</td>\n",
       "      <td>NaN</td>\n",
       "      <td>NaN</td>\n",
       "      <td>NaN</td>\n",
       "    </tr>\n",
       "    <tr>\n",
       "      <th>2019-06-01</th>\n",
       "      <td>NaN</td>\n",
       "      <td>NaN</td>\n",
       "      <td>9.672431e+06</td>\n",
       "      <td>NaN</td>\n",
       "      <td>NaN</td>\n",
       "      <td>NaN</td>\n",
       "      <td>NaN</td>\n",
       "      <td>NaN</td>\n",
       "      <td>NaN</td>\n",
       "      <td>NaN</td>\n",
       "    </tr>\n",
       "    <tr>\n",
       "      <th>2019-07-01</th>\n",
       "      <td>NaN</td>\n",
       "      <td>NaN</td>\n",
       "      <td>9.587653e+06</td>\n",
       "      <td>NaN</td>\n",
       "      <td>NaN</td>\n",
       "      <td>NaN</td>\n",
       "      <td>NaN</td>\n",
       "      <td>NaN</td>\n",
       "      <td>NaN</td>\n",
       "      <td>NaN</td>\n",
       "    </tr>\n",
       "    <tr>\n",
       "      <th>2019-08-01</th>\n",
       "      <td>NaN</td>\n",
       "      <td>NaN</td>\n",
       "      <td>9.279030e+06</td>\n",
       "      <td>NaN</td>\n",
       "      <td>NaN</td>\n",
       "      <td>NaN</td>\n",
       "      <td>NaN</td>\n",
       "      <td>NaN</td>\n",
       "      <td>NaN</td>\n",
       "      <td>NaN</td>\n",
       "    </tr>\n",
       "    <tr>\n",
       "      <th>2019-09-01</th>\n",
       "      <td>NaN</td>\n",
       "      <td>NaN</td>\n",
       "      <td>9.478182e+06</td>\n",
       "      <td>NaN</td>\n",
       "      <td>NaN</td>\n",
       "      <td>NaN</td>\n",
       "      <td>NaN</td>\n",
       "      <td>NaN</td>\n",
       "      <td>NaN</td>\n",
       "      <td>NaN</td>\n",
       "    </tr>\n",
       "    <tr>\n",
       "      <th>2019-10-01</th>\n",
       "      <td>NaN</td>\n",
       "      <td>NaN</td>\n",
       "      <td>9.858165e+06</td>\n",
       "      <td>NaN</td>\n",
       "      <td>NaN</td>\n",
       "      <td>NaN</td>\n",
       "      <td>NaN</td>\n",
       "      <td>NaN</td>\n",
       "      <td>NaN</td>\n",
       "      <td>NaN</td>\n",
       "    </tr>\n",
       "    <tr>\n",
       "      <th>2019-11-01</th>\n",
       "      <td>NaN</td>\n",
       "      <td>NaN</td>\n",
       "      <td>9.846923e+06</td>\n",
       "      <td>NaN</td>\n",
       "      <td>NaN</td>\n",
       "      <td>NaN</td>\n",
       "      <td>NaN</td>\n",
       "      <td>NaN</td>\n",
       "      <td>NaN</td>\n",
       "      <td>NaN</td>\n",
       "    </tr>\n",
       "    <tr>\n",
       "      <th>2019-12-01</th>\n",
       "      <td>NaN</td>\n",
       "      <td>NaN</td>\n",
       "      <td>8.618911e+06</td>\n",
       "      <td>NaN</td>\n",
       "      <td>NaN</td>\n",
       "      <td>NaN</td>\n",
       "      <td>NaN</td>\n",
       "      <td>NaN</td>\n",
       "      <td>NaN</td>\n",
       "      <td>NaN</td>\n",
       "    </tr>\n",
       "    <tr>\n",
       "      <th>2020-01-01</th>\n",
       "      <td>NaN</td>\n",
       "      <td>NaN</td>\n",
       "      <td>9.609988e+06</td>\n",
       "      <td>NaN</td>\n",
       "      <td>NaN</td>\n",
       "      <td>NaN</td>\n",
       "      <td>NaN</td>\n",
       "      <td>NaN</td>\n",
       "      <td>NaN</td>\n",
       "      <td>NaN</td>\n",
       "    </tr>\n",
       "    <tr>\n",
       "      <th>2020-02-01</th>\n",
       "      <td>NaN</td>\n",
       "      <td>NaN</td>\n",
       "      <td>9.113018e+06</td>\n",
       "      <td>NaN</td>\n",
       "      <td>NaN</td>\n",
       "      <td>NaN</td>\n",
       "      <td>NaN</td>\n",
       "      <td>NaN</td>\n",
       "      <td>NaN</td>\n",
       "      <td>NaN</td>\n",
       "    </tr>\n",
       "  </tbody>\n",
       "</table>\n",
       "</div>"
      ],
      "text/plain": [
       "           Total_admissions  seasonal first difference      forecast  \\\n",
       "2016-11-01          9266581                   580351.0           NaN   \n",
       "2016-12-01          7766670                  -266456.0           NaN   \n",
       "2017-01-01          8614083                   318031.0           NaN   \n",
       "2017-02-01          8200556                  -408170.0           NaN   \n",
       "2017-03-01          9498590                   836609.0           NaN   \n",
       "2017-04-01          7611013                  -967794.0           NaN   \n",
       "2017-05-01          8816683                    94272.0           NaN   \n",
       "2017-06-01          8911174                  -132466.0           NaN   \n",
       "2017-07-01          8617260                   105668.0           NaN   \n",
       "2017-08-01          8584193                   -28051.0           NaN   \n",
       "2017-09-01          8526287                  -376683.0           NaN   \n",
       "2017-10-01          9113583                   330969.0           NaN   \n",
       "2017-11-01          9226346                   -40235.0           NaN   \n",
       "2017-12-01          7455220                  -311450.0           NaN   \n",
       "2018-01-01          8965179                   351096.0           NaN   \n",
       "2018-02-01          8114870                   -85686.0           NaN   \n",
       "2018-03-01          8593300                  -905290.0  9.388118e+06   \n",
       "2018-04-01              NaN                        NaN  8.172372e+06   \n",
       "2018-05-01              NaN                        NaN  9.035558e+06   \n",
       "2018-06-01              NaN                        NaN  9.165925e+06   \n",
       "2018-07-01              NaN                        NaN  9.002285e+06   \n",
       "2018-08-01              NaN                        NaN  8.797571e+06   \n",
       "2018-09-01              NaN                        NaN  8.899789e+06   \n",
       "2018-10-01              NaN                        NaN  9.357947e+06   \n",
       "2018-11-01              NaN                        NaN  9.393466e+06   \n",
       "2018-12-01              NaN                        NaN  7.960653e+06   \n",
       "2019-01-01              NaN                        NaN  9.147394e+06   \n",
       "2019-02-01              NaN                        NaN  8.517184e+06   \n",
       "2019-03-01              NaN                        NaN  9.668918e+06   \n",
       "2019-04-01              NaN                        NaN  8.864695e+06   \n",
       "2019-05-01              NaN                        NaN  9.520337e+06   \n",
       "2019-06-01              NaN                        NaN  9.672431e+06   \n",
       "2019-07-01              NaN                        NaN  9.587653e+06   \n",
       "2019-08-01              NaN                        NaN  9.279030e+06   \n",
       "2019-09-01              NaN                        NaN  9.478182e+06   \n",
       "2019-10-01              NaN                        NaN  9.858165e+06   \n",
       "2019-11-01              NaN                        NaN  9.846923e+06   \n",
       "2019-12-01              NaN                        NaN  8.618911e+06   \n",
       "2020-01-01              NaN                        NaN  9.609988e+06   \n",
       "2020-02-01              NaN                        NaN  9.113018e+06   \n",
       "\n",
       "            Adjusted log  Adjusted sqrt  Adjusted cbrt  \\\n",
       "2016-11-01     16.041925    3044.105944     210.042176   \n",
       "2016-12-01     15.865352    2786.874594     198.036367   \n",
       "2017-01-01     15.968909    2934.975809     204.991735   \n",
       "2017-02-01     15.919713    2863.661293     201.657525   \n",
       "2017-03-01     16.066654    3081.978261     211.780701   \n",
       "2017-04-01     15.845107    2758.806445     196.704436   \n",
       "2017-05-01     15.992156    2969.289982     206.586407   \n",
       "2017-06-01     16.002817    2985.158957     207.321802   \n",
       "2017-07-01     15.969278    2935.516990     205.016933   \n",
       "2017-08-01     15.965433    2929.879349     204.754360   \n",
       "2017-09-01     15.958665    2919.980651     204.292920   \n",
       "2017-10-01     16.025276    3018.871147     208.879772   \n",
       "2017-11-01     16.037574    3037.490082     209.737738   \n",
       "2017-12-01     15.824425    2730.424875     195.353031   \n",
       "2018-01-01     16.008859    2994.190876     207.739774   \n",
       "2018-02-01     15.909209    2848.661089     200.952705   \n",
       "2018-03-01     15.966493    2931.433097     204.826742   \n",
       "2018-04-01           NaN            NaN            NaN   \n",
       "2018-05-01           NaN            NaN            NaN   \n",
       "2018-06-01           NaN            NaN            NaN   \n",
       "2018-07-01           NaN            NaN            NaN   \n",
       "2018-08-01           NaN            NaN            NaN   \n",
       "2018-09-01           NaN            NaN            NaN   \n",
       "2018-10-01           NaN            NaN            NaN   \n",
       "2018-11-01           NaN            NaN            NaN   \n",
       "2018-12-01           NaN            NaN            NaN   \n",
       "2019-01-01           NaN            NaN            NaN   \n",
       "2019-02-01           NaN            NaN            NaN   \n",
       "2019-03-01           NaN            NaN            NaN   \n",
       "2019-04-01           NaN            NaN            NaN   \n",
       "2019-05-01           NaN            NaN            NaN   \n",
       "2019-06-01           NaN            NaN            NaN   \n",
       "2019-07-01           NaN            NaN            NaN   \n",
       "2019-08-01           NaN            NaN            NaN   \n",
       "2019-09-01           NaN            NaN            NaN   \n",
       "2019-10-01           NaN            NaN            NaN   \n",
       "2019-11-01           NaN            NaN            NaN   \n",
       "2019-12-01           NaN            NaN            NaN   \n",
       "2020-01-01           NaN            NaN            NaN   \n",
       "2020-02-01           NaN            NaN            NaN   \n",
       "\n",
       "            Total_admissions_log_diff  Total_admissions_sqrt_diff  \\\n",
       "2016-11-01                   0.064675                   96.864862   \n",
       "2016-12-01                  -0.033732                  -47.402387   \n",
       "2017-01-01                   0.037619                   54.689018   \n",
       "2017-02-01                  -0.048574                  -70.401760   \n",
       "2017-03-01                   0.092200                  138.853901   \n",
       "2017-04-01                  -0.119699                 -170.153610   \n",
       "2017-05-01                   0.010750                   15.917165   \n",
       "2017-06-01                  -0.014756                  -22.105581   \n",
       "2017-07-01                   0.012338                   18.053709   \n",
       "2017-08-01                  -0.003262                   -4.783153   \n",
       "2017-09-01                  -0.043231                  -63.803859   \n",
       "2017-10-01                   0.036992                   55.323610   \n",
       "2017-11-01                  -0.004351                   -6.615862   \n",
       "2017-12-01                  -0.040927                  -56.449718   \n",
       "2018-01-01                   0.039950                   59.215067   \n",
       "2018-02-01                  -0.010504                  -15.000204   \n",
       "2018-03-01                  -0.100161                 -150.545164   \n",
       "2018-04-01                        NaN                         NaN   \n",
       "2018-05-01                        NaN                         NaN   \n",
       "2018-06-01                        NaN                         NaN   \n",
       "2018-07-01                        NaN                         NaN   \n",
       "2018-08-01                        NaN                         NaN   \n",
       "2018-09-01                        NaN                         NaN   \n",
       "2018-10-01                        NaN                         NaN   \n",
       "2018-11-01                        NaN                         NaN   \n",
       "2018-12-01                        NaN                         NaN   \n",
       "2019-01-01                        NaN                         NaN   \n",
       "2019-02-01                        NaN                         NaN   \n",
       "2019-03-01                        NaN                         NaN   \n",
       "2019-04-01                        NaN                         NaN   \n",
       "2019-05-01                        NaN                         NaN   \n",
       "2019-06-01                        NaN                         NaN   \n",
       "2019-07-01                        NaN                         NaN   \n",
       "2019-08-01                        NaN                         NaN   \n",
       "2019-09-01                        NaN                         NaN   \n",
       "2019-10-01                        NaN                         NaN   \n",
       "2019-11-01                        NaN                         NaN   \n",
       "2019-12-01                        NaN                         NaN   \n",
       "2020-01-01                        NaN                         NaN   \n",
       "2020-02-01                        NaN                         NaN   \n",
       "\n",
       "            Total_admissions_cbrt_diff          MA20  \n",
       "2016-11-01                    4.479731  8.462412e+06  \n",
       "2016-12-01                   -2.239303  8.442609e+06  \n",
       "2017-01-01                    2.554457  8.440505e+06  \n",
       "2017-02-01                   -3.291707  8.470097e+06  \n",
       "2017-03-01                    6.409721  8.506340e+06  \n",
       "2017-04-01                   -8.007091  8.468992e+06  \n",
       "2017-05-01                    0.738945  8.495958e+06  \n",
       "2017-06-01                   -1.022242  8.536432e+06  \n",
       "2017-07-01                    0.841446  8.555243e+06  \n",
       "2017-08-01                   -0.222786  8.581249e+06  \n",
       "2017-09-01                   -2.965239  8.574568e+06  \n",
       "2017-10-01                    2.559802  8.605307e+06  \n",
       "2017-11-01                   -0.304438  8.647089e+06  \n",
       "2017-12-01                   -2.683336  8.597783e+06  \n",
       "2018-01-01                    2.748039  8.597428e+06  \n",
       "2018-02-01                   -0.704821  8.609166e+06  \n",
       "2018-03-01                   -6.953958  8.605050e+06  \n",
       "2018-04-01                         NaN           NaN  \n",
       "2018-05-01                         NaN           NaN  \n",
       "2018-06-01                         NaN           NaN  \n",
       "2018-07-01                         NaN           NaN  \n",
       "2018-08-01                         NaN           NaN  \n",
       "2018-09-01                         NaN           NaN  \n",
       "2018-10-01                         NaN           NaN  \n",
       "2018-11-01                         NaN           NaN  \n",
       "2018-12-01                         NaN           NaN  \n",
       "2019-01-01                         NaN           NaN  \n",
       "2019-02-01                         NaN           NaN  \n",
       "2019-03-01                         NaN           NaN  \n",
       "2019-04-01                         NaN           NaN  \n",
       "2019-05-01                         NaN           NaN  \n",
       "2019-06-01                         NaN           NaN  \n",
       "2019-07-01                         NaN           NaN  \n",
       "2019-08-01                         NaN           NaN  \n",
       "2019-09-01                         NaN           NaN  \n",
       "2019-10-01                         NaN           NaN  \n",
       "2019-11-01                         NaN           NaN  \n",
       "2019-12-01                         NaN           NaN  \n",
       "2020-01-01                         NaN           NaN  \n",
       "2020-02-01                         NaN           NaN  "
      ]
     },
     "execution_count": 262,
     "metadata": {},
     "output_type": "execute_result"
    }
   ],
   "source": [
    "future_df.tail(40)"
   ]
  },
  {
   "cell_type": "code",
   "execution_count": null,
   "id": "438d2aa0",
   "metadata": {},
   "outputs": [],
   "source": []
  }
 ],
 "metadata": {
  "kernelspec": {
   "display_name": "Python 3",
   "language": "python",
   "name": "python3"
  },
  "language_info": {
   "codemirror_mode": {
    "name": "ipython",
    "version": 3
   },
   "file_extension": ".py",
   "mimetype": "text/x-python",
   "name": "python",
   "nbconvert_exporter": "python",
   "pygments_lexer": "ipython3",
   "version": "3.8.8"
  }
 },
 "nbformat": 4,
 "nbformat_minor": 5
}
